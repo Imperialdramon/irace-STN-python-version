{
 "cells": [
  {
   "cell_type": "markdown",
   "metadata": {},
   "source": [
    "# Creación de archivos con formato de trajectorias con irace"
   ]
  },
  {
   "cell_type": "markdown",
   "metadata": {},
   "source": [
    "En este notebook se realizan experimentos y define la forma de como utilizar los datos del repositorio https://github.com/dianagils/irace-package/tree/stn-irace para generar archivos en formato legible para STN."
   ]
  },
  {
   "cell_type": "markdown",
   "metadata": {},
   "source": [
    "## Librerías"
   ]
  },
  {
   "cell_type": "code",
   "execution_count": 1,
   "metadata": {},
   "outputs": [],
   "source": [
    "from Transform_STN_Module import Parameter_Format, Location_Format, trajectories_to_stn_format"
   ]
  },
  {
   "cell_type": "markdown",
   "metadata": {},
   "source": [
    "## Ejemplo de ejecución"
   ]
  },
  {
   "cell_type": "code",
   "execution_count": null,
   "metadata": {},
   "outputs": [],
   "source": [
    "folder_path = \"Trajectory_Files/ACOTSP\"\n",
    "\n",
    "\"\"\"\n",
    "Formato en archivo irace\n",
    "\n",
    "algorithm    \"--\"             c    (as,mmas,eas,ras,acs)\n",
    "localsearch  \"--localsearch \" c    (0, 1, 2, 3)\n",
    "alpha        \"--alpha \"       r    (0.00, 5.00)\n",
    "beta         \"--beta \"        r    (0.00, 10.00)\n",
    "rho          \"--rho  \"        r    (0.01, 1.00)\n",
    "ants         \"--ants \"        i            (5, 100)\n",
    "q0           \"--q0 \"          r    (0.0, 1.0)           | algorithm == \"acs\"\n",
    "rasrank      \"--rasranks \"    i    (1, 100)             | algorithm == \"ras\"\n",
    "elitistants  \"--elitistants \" i    (1, 750)             | algorithm == \"eas\"\n",
    "nnls         \"--nnls \"        i    (5, 50)              | localsearch %in% c(1,2,3)\n",
    "dlb          \"--dlb \"         c    (0, 1)               | localsearch %in% c(1,2,3)\n",
    "\"\"\"\n",
    "# Formato de los parametros\n",
    "# Es importante que para los valores posibles en los casos categóricos se añada el caso del NA\n",
    "parameters_format = [\n",
    "    Parameter_Format(name=\"algorithm\", type=\"s\", value_type=\"c\", possible_values=[\"as\", \"mmas\", \"eas\", \"ras\", \"acs\", \"NA\"]),\n",
    "    Parameter_Format(name=\"localsearch\", type=\"s\", value_type=\"c\", possible_values=[\"0\", \"1\", \"2\", \"3\"]),\n",
    "    Parameter_Format(name=\"alpha\", type=\"f\", value_type=\"r\", possible_values=[0.00, 5.00]),\n",
    "    Parameter_Format(name=\"beta\", type=\"f\", value_type=\"r\", possible_values=[0.00, 10.00]),\n",
    "    Parameter_Format(name=\"rho\", type=\"f\", value_type=\"r\", possible_values=[0.01, 1.00]),\n",
    "    Parameter_Format(name=\"ants\", type=\"i\", value_type=\"i\", possible_values=[5, 100]),\n",
    "    Parameter_Format(name=\"q0\", type=\"f\", value_type=\"r\", possible_values=[0.0, 1.0]),\n",
    "    Parameter_Format(name=\"rasrank\", type=\"i\", value_type=\"i\", possible_values=[1, 100]),\n",
    "    Parameter_Format(name=\"elitistants\", type=\"i\", value_type=\"i\", possible_values=[1, 750]),\n",
    "    Parameter_Format(name=\"nnls\", type=\"i\", value_type=\"i\", possible_values=[5, 50]),\n",
    "    Parameter_Format(name=\"dlb\", type=\"s\", value_type=\"c\", possible_values=[\"0\", \"1\", \"NA\"]),\n",
    "]\n",
    "\n",
    "# Formato de las localizaciones\n",
    "# Es importante que para los valores posibles en los casos categóricos se añada el caso del NA \n",
    "locations_format = [\n",
    "    Location_Format(name=\"algorithm\", location_caster={\"as\": \"0\", \"mmas\": \"1\", \"eas\": \"2\", \"ras\": \"3\", \"acs\": \"4\", \"NA\": \"x\"}),\n",
    "    Location_Format(name=\"localsearch\", location_caster={\"0\": \"0\", \"1\": \"1\", \"2\": \"2\", \"3\": \"3\"}),\n",
    "    Location_Format(name=\"alpha\", location_caster=[0.50, 2]),\n",
    "    Location_Format(name=\"beta\", location_caster=[0.50, 2]),\n",
    "    Location_Format(name=\"rho\", location_caster=[0.05, 2]),\n",
    "    Location_Format(name=\"ants\", location_caster=[5, 0]),\n",
    "    Location_Format(name=\"q0\", location_caster=[0.10, 2]),\n",
    "    Location_Format(name=\"rasrank\", location_caster=[10, 0]),\n",
    "    Location_Format(name=\"elitistants\", location_caster=[100, 0]),\n",
    "    Location_Format(name=\"nnls\", location_caster=[5, 0]),\n",
    "    Location_Format(name=\"dlb\", location_caster={\"0\": \"0\", \"1\": \"1\", \"NA\": \"x\"}),\n",
    "]\n",
    "\n",
    "stn_lines = trajectories_to_stn_format(\n",
    "    folder_path=folder_path,\n",
    "    file_extension=\"txt\",\n",
    "    output_file_path=\"stn_acotsp.txt\",\n",
    "    parameters_format=parameters_format,\n",
    "    locations_format=locations_format,\n",
    "    quality_type=\"best\",\n",
    "    significant_digits=2,\n",
    "    show_elites=False,\n",
    ")\n",
    "\n",
    "for line in stn_lines:\n",
    "    print(line)"
   ]
  }
 ],
 "metadata": {
  "kernelspec": {
   "display_name": "Python 3",
   "language": "python",
   "name": "python3"
  },
  "language_info": {
   "codemirror_mode": {
    "name": "ipython",
    "version": 3
   },
   "file_extension": ".py",
   "mimetype": "text/x-python",
   "name": "python",
   "nbconvert_exporter": "python",
   "pygments_lexer": "ipython3",
   "version": "3.11.4"
  }
 },
 "nbformat": 4,
 "nbformat_minor": 2
}
