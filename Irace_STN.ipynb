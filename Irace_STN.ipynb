{
 "cells": [
  {
   "cell_type": "markdown",
   "metadata": {},
   "source": [
    "# Creación de archivos con formato de trajectorias con irace"
   ]
  },
  {
   "cell_type": "markdown",
   "metadata": {},
   "source": [
    "En este notebook se realizan experimentos y define la forma de como utilizar los datos del repositorio https://github.com/dianagils/irace-package/tree/stn-irace para generar archivos en formato legible para STN."
   ]
  },
  {
   "cell_type": "markdown",
   "metadata": {},
   "source": [
    "## Librerías"
   ]
  },
  {
   "cell_type": "code",
   "execution_count": 1,
   "metadata": {},
   "outputs": [],
   "source": [
    "from Transform_STN_Module import Parameter_Format, Location_Format, trajectories_to_stn_format"
   ]
  },
  {
   "cell_type": "markdown",
   "metadata": {},
   "source": [
    "## Ejecución para ACOTSP"
   ]
  },
  {
   "cell_type": "markdown",
   "metadata": {},
   "source": [
    "Formato de parámetros en archivo irace\n",
    "\n",
    "| Name         | Switch            | Type | Values                 |\n",
    "|--------------|-------------------|------|------------------------|\n",
    "| algorithm    | \"--\"              | c    | (as, mmas, eas, ras, acs) |\n",
    "| localsearch  | \"--localsearch \"  | c    | (0, 1, 2, 3)           |\n",
    "| alpha        | \"--alpha \"        | r    | (0.00, 5.00)           |\n",
    "| beta         | \"--beta \"         | r    | (0.00, 10.00)          |\n",
    "| rho          | \"--rho \"          | r    | (0.01, 1.00)           |\n",
    "| ants         | \"--ants \"         | i    | (5, 100)               |\n",
    "| q0           | \"--q0 \"           | r    | (0.01, 1.00)           |\n",
    "| rasrank      | \"--rasranks \"     | i    | (1, 100)               |\n",
    "| elitistants  | \"--elitistants \"  | i    | (1, 750)               |\n",
    "| nnls         | \"--nnls \"         | i    | (5, 50)                |\n",
    "| dlb          | \"--dlb \"          | c    | (0, 1)                 |"
   ]
  },
  {
   "cell_type": "markdown",
   "metadata": {},
   "source": [
    "### Formato de parámetros"
   ]
  },
  {
   "cell_type": "code",
   "execution_count": 2,
   "metadata": {},
   "outputs": [],
   "source": [
    "acotsp_parameters_format = [\n",
    "    Parameter_Format(name=\"algorithm\", type=\"s\", value_type=\"c\", possible_values=[\"as\", \"mmas\", \"eas\", \"ras\", \"acs\", \"NA\"]),\n",
    "    Parameter_Format(name=\"localsearch\", type=\"s\", value_type=\"c\", possible_values=[\"0\", \"1\", \"2\", \"3\", \"NA\"]),\n",
    "    Parameter_Format(name=\"alpha\", type=\"f\", value_type=\"r\", possible_values=[0.00, 5.00]),\n",
    "    Parameter_Format(name=\"beta\", type=\"f\", value_type=\"r\", possible_values=[0.00, 10.00]),\n",
    "    Parameter_Format(name=\"rho\", type=\"f\", value_type=\"r\", possible_values=[0.01, 1.00]),\n",
    "    Parameter_Format(name=\"ants\", type=\"i\", value_type=\"i\", possible_values=[5, 100]),\n",
    "    Parameter_Format(name=\"q0\", type=\"f\", value_type=\"r\", possible_values=[0.0, 1.0]),\n",
    "    Parameter_Format(name=\"rasrank\", type=\"i\", value_type=\"i\", possible_values=[1, 100]),\n",
    "    Parameter_Format(name=\"elitistants\", type=\"i\", value_type=\"i\", possible_values=[1, 750]),\n",
    "    Parameter_Format(name=\"nnls\", type=\"i\", value_type=\"i\", possible_values=[5, 50]),\n",
    "    Parameter_Format(name=\"dlb\", type=\"s\", value_type=\"c\", possible_values=[\"0\", \"1\", \"NA\"]),\n",
    "]"
   ]
  },
  {
   "cell_type": "markdown",
   "metadata": {},
   "source": [
    "### Formato de locación 0"
   ]
  },
  {
   "cell_type": "code",
   "execution_count": 3,
   "metadata": {},
   "outputs": [],
   "source": [
    "# Formato de las localizaciones\n",
    "acotsp_locations_format_0 = [\n",
    "    Location_Format(name=\"algorithm\", location_caster={\"as\": \"0\", \"mmas\": \"1\", \"eas\": \"2\", \"ras\": \"3\", \"acs\": \"4\", \"NA\": \"x\"}),\n",
    "    Location_Format(name=\"localsearch\", location_caster={\"0\": \"0\", \"1\": \"1\", \"2\": \"2\", \"3\": \"3\", \"NA\": \"x\"}),\n",
    "    Location_Format(name=\"alpha\", location_caster=[0.1, 2]),\n",
    "    Location_Format(name=\"beta\", location_caster=[0.5, 2]),\n",
    "    Location_Format(name=\"rho\", location_caster=[0.1, 2]),\n",
    "    Location_Format(name=\"ants\", location_caster=[10, 0]),\n",
    "    Location_Format(name=\"q0\", location_caster=[0.1, 2]),\n",
    "    Location_Format(name=\"rasrank\", location_caster=[10, 0]),\n",
    "    Location_Format(name=\"elitistants\", location_caster=[100, 0]),\n",
    "    Location_Format(name=\"nnls\", location_caster=[5, 0]),\n",
    "    Location_Format(name=\"dlb\", location_caster={\"0\": \"0\", \"1\": \"1\", \"NA\": \"x\"}),\n",
    "]"
   ]
  },
  {
   "cell_type": "markdown",
   "metadata": {},
   "source": [
    "### Formato de locación 1"
   ]
  },
  {
   "cell_type": "code",
   "execution_count": 4,
   "metadata": {},
   "outputs": [],
   "source": [
    "# Formato de las localizaciones\n",
    "acotsp_locations_format_1 = [\n",
    "    Location_Format(name=\"algorithm\", location_caster={\"as\": \"0\", \"mmas\": \"1\", \"eas\": \"2\", \"ras\": \"3\", \"acs\": \"4\", \"NA\": \"x\"}),\n",
    "    Location_Format(name=\"localsearch\", location_caster={\"0\": \"0\", \"1\": \"1\", \"2\": \"2\", \"3\": \"3\", \"NA\": \"x\"}),\n",
    "    Location_Format(name=\"alpha\", location_caster=[0.05, 2]),\n",
    "    Location_Format(name=\"beta\", location_caster=[0.5, 2]),\n",
    "    Location_Format(name=\"rho\", location_caster=[0.05, 2]),\n",
    "    Location_Format(name=\"ants\", location_caster=[5, 0]),\n",
    "    Location_Format(name=\"q0\", location_caster=[0.05, 2]),\n",
    "    Location_Format(name=\"rasrank\", location_caster=[10, 0]),\n",
    "    Location_Format(name=\"elitistants\", location_caster=[100, 0]),\n",
    "    Location_Format(name=\"nnls\", location_caster=[5, 0]),\n",
    "    Location_Format(name=\"dlb\", location_caster={\"0\": \"0\", \"1\": \"1\", \"NA\": \"x\"}),\n",
    "]"
   ]
  },
  {
   "cell_type": "markdown",
   "metadata": {},
   "source": [
    "### Formato de locación 2"
   ]
  },
  {
   "cell_type": "code",
   "execution_count": 5,
   "metadata": {},
   "outputs": [],
   "source": [
    "# Formato de las localizaciones\n",
    "acotsp_locations_format_2 = [\n",
    "    Location_Format(name=\"algorithm\", location_caster={\"as\": \"0\", \"mmas\": \"1\", \"eas\": \"2\", \"ras\": \"3\", \"acs\": \"4\", \"NA\": \"x\"}),\n",
    "    Location_Format(name=\"localsearch\", location_caster={\"0\": \"0\", \"1\": \"1\", \"2\": \"2\", \"3\": \"3\", \"NA\": \"x\"}),\n",
    "    Location_Format(name=\"alpha\", location_caster=[0.02, 2]),\n",
    "    Location_Format(name=\"beta\", location_caster=[0.02, 2]),\n",
    "    Location_Format(name=\"rho\", location_caster=[0.02, 2]),\n",
    "    Location_Format(name=\"ants\", location_caster=[2, 0]),\n",
    "    Location_Format(name=\"q0\", location_caster=[0.02, 2]),\n",
    "    Location_Format(name=\"rasrank\", location_caster=[2, 0]),\n",
    "    Location_Format(name=\"elitistants\", location_caster=[50, 0]),\n",
    "    Location_Format(name=\"nnls\", location_caster=[3, 0]),\n",
    "    Location_Format(name=\"dlb\", location_caster={\"0\": \"0\", \"1\": \"1\", \"NA\": \"x\"}),\n",
    "]"
   ]
  },
  {
   "cell_type": "markdown",
   "metadata": {},
   "source": [
    "### Forma Normal - Locación 0"
   ]
  },
  {
   "cell_type": "code",
   "execution_count": 6,
   "metadata": {},
   "outputs": [
    {
     "name": "stdout",
     "output_type": "stream",
     "text": [
      "Inicio del procesamiento del archivo 1 (Trajectory_Files/ACOTSP/N\\trajectories_128.txt) de 649 lineas...\n",
      "Inicio del procesamiento del archivo 2 (Trajectory_Files/ACOTSP/N\\trajectories_1569.txt) de 559 lineas...\n",
      "Inicio del procesamiento del archivo 3 (Trajectory_Files/ACOTSP/N\\trajectories_3764.txt) de 577 lineas...\n",
      "Inicio del procesamiento del archivo 4 (Trajectory_Files/ACOTSP/N\\trajectories_5144.txt) de 623 lineas...\n",
      "Inicio del procesamiento del archivo 5 (Trajectory_Files/ACOTSP/N\\trajectories_7018.txt) de 587 lineas...\n",
      "Inicio del procesamiento del archivo 6 (Trajectory_Files/ACOTSP/N\\trajectories_7175.txt) de 560 lineas...\n",
      "Inicio del procesamiento del archivo 7 (Trajectory_Files/ACOTSP/N\\trajectories_7940.txt) de 577 lineas...\n",
      "Inicio del procesamiento del archivo 8 (Trajectory_Files/ACOTSP/N\\trajectories_8860.txt) de 641 lineas...\n",
      "Inicio del procesamiento del archivo 9 (Trajectory_Files/ACOTSP/N\\trajectories_9411.txt) de 631 lineas...\n",
      "Inicio del procesamiento del archivo 10 (Trajectory_Files/ACOTSP/N\\trajectories_9685.txt) de 644 lineas...\n",
      "Fin del procesamiento de los archivos. Tiempo total: 0.013999223709106445 segundos.\n",
      "Inicio del proceso de generación de locaciones...\n",
      "Fin del proceso de generación de locaciones. Tiempo total: 0.14099907875061035 segundos.\n",
      "Inicio del proceso de cálculo de calidad de locaciones...\n",
      "Fin del proceso de cálculo de calidad de locaciones. Tiempo total: 0.0070002079010009766 segundos.\n",
      "Inicio del proceso de generación del archivo en formato STN...\n",
      "Fin del proceso de generación del archivo en formato STN. Tiempo total: 0.012000083923339844 segundos.\n",
      "Fin del proceso de conversión de las trayectorias a formato STN.\n"
     ]
    }
   ],
   "source": [
    "folder_path = \"Trajectory_Files/ACOTSP/N\"\n",
    "destination_path = \"Trajectory_Files/ACOTSP/N_L0_STN\"\n",
    "output_file = \"ACOTSP_N_L0_STN.txt\"\n",
    "output_file_path = f'{destination_path}/{output_file}'\n",
    "\n",
    "stn_lines = trajectories_to_stn_format(\n",
    "    folder_path=folder_path,\n",
    "    file_extension=\"txt\",\n",
    "    output_file_path=output_file_path,\n",
    "    parameters_format=acotsp_parameters_format,\n",
    "    locations_format=acotsp_locations_format_0,\n",
    "    quality_type=\"min\",\n",
    "    significant_digits=2,\n",
    "    show_elites=True,\n",
    "    show_iterations=True,\n",
    "    show_configurations=False,\n",
    ")"
   ]
  },
  {
   "cell_type": "markdown",
   "metadata": {},
   "source": [
    "### Forma Normal - Locación 1"
   ]
  },
  {
   "cell_type": "code",
   "execution_count": 7,
   "metadata": {},
   "outputs": [
    {
     "name": "stdout",
     "output_type": "stream",
     "text": [
      "Inicio del procesamiento del archivo 1 (Trajectory_Files/ACOTSP/N\\trajectories_128.txt) de 649 lineas...\n",
      "Inicio del procesamiento del archivo 2 (Trajectory_Files/ACOTSP/N\\trajectories_1569.txt) de 559 lineas...\n",
      "Inicio del procesamiento del archivo 3 (Trajectory_Files/ACOTSP/N\\trajectories_3764.txt) de 577 lineas...\n",
      "Inicio del procesamiento del archivo 4 (Trajectory_Files/ACOTSP/N\\trajectories_5144.txt) de 623 lineas...\n",
      "Inicio del procesamiento del archivo 5 (Trajectory_Files/ACOTSP/N\\trajectories_7018.txt) de 587 lineas...\n",
      "Inicio del procesamiento del archivo 6 (Trajectory_Files/ACOTSP/N\\trajectories_7175.txt) de 560 lineas...\n",
      "Inicio del procesamiento del archivo 7 (Trajectory_Files/ACOTSP/N\\trajectories_7940.txt) de 577 lineas...\n",
      "Inicio del procesamiento del archivo 8 (Trajectory_Files/ACOTSP/N\\trajectories_8860.txt) de 641 lineas...\n",
      "Inicio del procesamiento del archivo 9 (Trajectory_Files/ACOTSP/N\\trajectories_9411.txt) de 631 lineas...\n",
      "Inicio del procesamiento del archivo 10 (Trajectory_Files/ACOTSP/N\\trajectories_9685.txt) de 644 lineas...\n",
      "Fin del procesamiento de los archivos. Tiempo total: 0.0449981689453125 segundos.\n",
      "Inicio del proceso de generación de locaciones...\n",
      "Fin del proceso de generación de locaciones. Tiempo total: 0.13500118255615234 segundos.\n",
      "Inicio del proceso de cálculo de calidad de locaciones...\n",
      "Fin del proceso de cálculo de calidad de locaciones. Tiempo total: 0.00800180435180664 segundos.\n",
      "Inicio del proceso de generación del archivo en formato STN...\n",
      "Fin del proceso de generación del archivo en formato STN. Tiempo total: 0.011998653411865234 segundos.\n",
      "Fin del proceso de conversión de las trayectorias a formato STN.\n"
     ]
    }
   ],
   "source": [
    "folder_path = \"Trajectory_Files/ACOTSP/N\"\n",
    "destination_path = \"Trajectory_Files/ACOTSP/N_L1_STN\"\n",
    "output_file = \"ACOTSP_N_L1_STN.txt\"\n",
    "output_file_path = f'{destination_path}/{output_file}'\n",
    "\n",
    "stn_lines = trajectories_to_stn_format(\n",
    "    folder_path=folder_path,\n",
    "    file_extension=\"txt\",\n",
    "    output_file_path=output_file_path,\n",
    "    parameters_format=acotsp_parameters_format,\n",
    "    locations_format=acotsp_locations_format_1,\n",
    "    quality_type=\"min\",\n",
    "    significant_digits=2,\n",
    "    show_elites=True,\n",
    "    show_iterations=True,\n",
    "    show_configurations=False,\n",
    ")"
   ]
  },
  {
   "cell_type": "markdown",
   "metadata": {},
   "source": [
    "### Forma Normal - Locación 2"
   ]
  },
  {
   "cell_type": "code",
   "execution_count": 8,
   "metadata": {},
   "outputs": [
    {
     "name": "stdout",
     "output_type": "stream",
     "text": [
      "Inicio del procesamiento del archivo 1 (Trajectory_Files/ACOTSP/N\\trajectories_128.txt) de 649 lineas...\n",
      "Inicio del procesamiento del archivo 2 (Trajectory_Files/ACOTSP/N\\trajectories_1569.txt) de 559 lineas...\n",
      "Inicio del procesamiento del archivo 3 (Trajectory_Files/ACOTSP/N\\trajectories_3764.txt) de 577 lineas...\n",
      "Inicio del procesamiento del archivo 4 (Trajectory_Files/ACOTSP/N\\trajectories_5144.txt) de 623 lineas...\n",
      "Inicio del procesamiento del archivo 5 (Trajectory_Files/ACOTSP/N\\trajectories_7018.txt) de 587 lineas...\n",
      "Inicio del procesamiento del archivo 6 (Trajectory_Files/ACOTSP/N\\trajectories_7175.txt) de 560 lineas...\n",
      "Inicio del procesamiento del archivo 7 (Trajectory_Files/ACOTSP/N\\trajectories_7940.txt) de 577 lineas...\n",
      "Inicio del procesamiento del archivo 8 (Trajectory_Files/ACOTSP/N\\trajectories_8860.txt) de 641 lineas...\n",
      "Inicio del procesamiento del archivo 9 (Trajectory_Files/ACOTSP/N\\trajectories_9411.txt) de 631 lineas...\n",
      "Inicio del procesamiento del archivo 10 (Trajectory_Files/ACOTSP/N\\trajectories_9685.txt) de 644 lineas...\n",
      "Fin del procesamiento de los archivos. Tiempo total: 0.012001276016235352 segundos.\n",
      "Inicio del proceso de generación de locaciones...\n",
      "Fin del proceso de generación de locaciones. Tiempo total: 0.16865110397338867 segundos.\n",
      "Inicio del proceso de cálculo de calidad de locaciones...\n",
      "Fin del proceso de cálculo de calidad de locaciones. Tiempo total: 0.00699925422668457 segundos.\n",
      "Inicio del proceso de generación del archivo en formato STN...\n",
      "Fin del proceso de generación del archivo en formato STN. Tiempo total: 0.011998891830444336 segundos.\n",
      "Fin del proceso de conversión de las trayectorias a formato STN.\n"
     ]
    }
   ],
   "source": [
    "folder_path = \"Trajectory_Files/ACOTSP/N\"\n",
    "destination_path = \"Trajectory_Files/ACOTSP/N_L2_STN\"\n",
    "output_file = \"ACOTSP_N_L2_STN.txt\"\n",
    "output_file_path = f'{destination_path}/{output_file}'\n",
    "\n",
    "stn_lines = trajectories_to_stn_format(\n",
    "    folder_path=folder_path,\n",
    "    file_extension=\"txt\",\n",
    "    output_file_path=output_file_path,\n",
    "    parameters_format=acotsp_parameters_format,\n",
    "    locations_format=acotsp_locations_format_2,\n",
    "    quality_type=\"min\",\n",
    "    significant_digits=2,\n",
    "    show_elites=True,\n",
    "    show_iterations=True,\n",
    "    show_configurations=False,\n",
    ")"
   ]
  },
  {
   "cell_type": "markdown",
   "metadata": {},
   "source": [
    "### Forma con SoftRestart - Locación 0"
   ]
  },
  {
   "cell_type": "code",
   "execution_count": 9,
   "metadata": {},
   "outputs": [
    {
     "name": "stdout",
     "output_type": "stream",
     "text": [
      "Inicio del procesamiento del archivo 1 (Trajectory_Files/ACOTSP/SR\\trajectories_128.txt) de 649 lineas...\n",
      "Inicio del procesamiento del archivo 2 (Trajectory_Files/ACOTSP/SR\\trajectories_1569.txt) de 595 lineas...\n",
      "Inicio del procesamiento del archivo 3 (Trajectory_Files/ACOTSP/SR\\trajectories_3764.txt) de 605 lineas...\n",
      "Inicio del procesamiento del archivo 4 (Trajectory_Files/ACOTSP/SR\\trajectories_5144.txt) de 594 lineas...\n",
      "Inicio del procesamiento del archivo 5 (Trajectory_Files/ACOTSP/SR\\trajectories_7018.txt) de 606 lineas...\n",
      "Inicio del procesamiento del archivo 6 (Trajectory_Files/ACOTSP/SR\\trajectories_7175.txt) de 633 lineas...\n",
      "Inicio del procesamiento del archivo 7 (Trajectory_Files/ACOTSP/SR\\trajectories_7940.txt) de 609 lineas...\n",
      "Inicio del procesamiento del archivo 8 (Trajectory_Files/ACOTSP/SR\\trajectories_8860.txt) de 697 lineas...\n",
      "Inicio del procesamiento del archivo 9 (Trajectory_Files/ACOTSP/SR\\trajectories_9411.txt) de 603 lineas...\n",
      "Inicio del procesamiento del archivo 10 (Trajectory_Files/ACOTSP/SR\\trajectories_9685.txt) de 584 lineas...\n",
      "Fin del procesamiento de los archivos. Tiempo total: 0.01099538803100586 segundos.\n",
      "Inicio del proceso de generación de locaciones...\n",
      "Fin del proceso de generación de locaciones. Tiempo total: 0.1371915340423584 segundos.\n",
      "Inicio del proceso de cálculo de calidad de locaciones...\n",
      "Fin del proceso de cálculo de calidad de locaciones. Tiempo total: 0.007001399993896484 segundos.\n",
      "Inicio del proceso de generación del archivo en formato STN...\n",
      "Fin del proceso de generación del archivo en formato STN. Tiempo total: 0.012001276016235352 segundos.\n",
      "Fin del proceso de conversión de las trayectorias a formato STN.\n"
     ]
    }
   ],
   "source": [
    "folder_path = \"Trajectory_Files/ACOTSP/SR\"\n",
    "destination_path = \"Trajectory_Files/ACOTSP/SR_L0_STN\"\n",
    "output_file = \"ACOTSP_SR_L0_STN.txt\"\n",
    "output_file_path = f'{destination_path}/{output_file}'\n",
    "\n",
    "stn_lines = trajectories_to_stn_format(\n",
    "    folder_path=folder_path,\n",
    "    file_extension=\"txt\",\n",
    "    output_file_path=output_file_path,\n",
    "    parameters_format=acotsp_parameters_format,\n",
    "    locations_format=acotsp_locations_format_0,\n",
    "    quality_type=\"min\",\n",
    "    significant_digits=2,\n",
    "    show_elites=True,\n",
    "    show_iterations=True,\n",
    "    show_configurations=False,\n",
    ")"
   ]
  },
  {
   "cell_type": "markdown",
   "metadata": {},
   "source": [
    "### Forma con SoftRestart - Locación 1"
   ]
  },
  {
   "cell_type": "code",
   "execution_count": 10,
   "metadata": {},
   "outputs": [
    {
     "name": "stdout",
     "output_type": "stream",
     "text": [
      "Inicio del procesamiento del archivo 1 (Trajectory_Files/ACOTSP/SR\\trajectories_128.txt) de 649 lineas...\n",
      "Inicio del procesamiento del archivo 2 (Trajectory_Files/ACOTSP/SR\\trajectories_1569.txt) de 595 lineas...\n",
      "Inicio del procesamiento del archivo 3 (Trajectory_Files/ACOTSP/SR\\trajectories_3764.txt) de 605 lineas...\n",
      "Inicio del procesamiento del archivo 4 (Trajectory_Files/ACOTSP/SR\\trajectories_5144.txt) de 594 lineas...\n",
      "Inicio del procesamiento del archivo 5 (Trajectory_Files/ACOTSP/SR\\trajectories_7018.txt) de 606 lineas...\n",
      "Inicio del procesamiento del archivo 6 (Trajectory_Files/ACOTSP/SR\\trajectories_7175.txt) de 633 lineas...\n",
      "Inicio del procesamiento del archivo 7 (Trajectory_Files/ACOTSP/SR\\trajectories_7940.txt) de 609 lineas...\n",
      "Inicio del procesamiento del archivo 8 (Trajectory_Files/ACOTSP/SR\\trajectories_8860.txt) de 697 lineas...\n",
      "Inicio del procesamiento del archivo 9 (Trajectory_Files/ACOTSP/SR\\trajectories_9411.txt) de 603 lineas...\n",
      "Inicio del procesamiento del archivo 10 (Trajectory_Files/ACOTSP/SR\\trajectories_9685.txt) de 584 lineas...\n",
      "Fin del procesamiento de los archivos. Tiempo total: 0.01199960708618164 segundos.\n",
      "Inicio del proceso de generación de locaciones...\n",
      "Fin del proceso de generación de locaciones. Tiempo total: 0.13650918006896973 segundos.\n",
      "Inicio del proceso de cálculo de calidad de locaciones...\n",
      "Fin del proceso de cálculo de calidad de locaciones. Tiempo total: 0.006996870040893555 segundos.\n",
      "Inicio del proceso de generación del archivo en formato STN...\n",
      "Fin del proceso de generación del archivo en formato STN. Tiempo total: 0.011980533599853516 segundos.\n",
      "Fin del proceso de conversión de las trayectorias a formato STN.\n"
     ]
    }
   ],
   "source": [
    "folder_path = \"Trajectory_Files/ACOTSP/SR\"\n",
    "destination_path = \"Trajectory_Files/ACOTSP/SR_L1_STN\"\n",
    "output_file = \"ACOTSP_SR_L1_STN.txt\"\n",
    "output_file_path = f'{destination_path}/{output_file}'\n",
    "\n",
    "stn_lines = trajectories_to_stn_format(\n",
    "    folder_path=folder_path,\n",
    "    file_extension=\"txt\",\n",
    "    output_file_path=output_file_path,\n",
    "    parameters_format=acotsp_parameters_format,\n",
    "    locations_format=acotsp_locations_format_1,\n",
    "    quality_type=\"min\",\n",
    "    significant_digits=2,\n",
    "    show_elites=True,\n",
    "    show_iterations=True,\n",
    "    show_configurations=False,\n",
    ")"
   ]
  },
  {
   "cell_type": "markdown",
   "metadata": {},
   "source": [
    "### Forma con SoftRestart - Locación 2"
   ]
  },
  {
   "cell_type": "code",
   "execution_count": 11,
   "metadata": {},
   "outputs": [
    {
     "name": "stdout",
     "output_type": "stream",
     "text": [
      "Inicio del procesamiento del archivo 1 (Trajectory_Files/ACOTSP/SR\\trajectories_128.txt) de 649 lineas...\n",
      "Inicio del procesamiento del archivo 2 (Trajectory_Files/ACOTSP/SR\\trajectories_1569.txt) de 595 lineas...\n",
      "Inicio del procesamiento del archivo 3 (Trajectory_Files/ACOTSP/SR\\trajectories_3764.txt) de 605 lineas...\n",
      "Inicio del procesamiento del archivo 4 (Trajectory_Files/ACOTSP/SR\\trajectories_5144.txt) de 594 lineas...\n",
      "Inicio del procesamiento del archivo 5 (Trajectory_Files/ACOTSP/SR\\trajectories_7018.txt) de 606 lineas...\n",
      "Inicio del procesamiento del archivo 6 (Trajectory_Files/ACOTSP/SR\\trajectories_7175.txt) de 633 lineas...\n",
      "Inicio del procesamiento del archivo 7 (Trajectory_Files/ACOTSP/SR\\trajectories_7940.txt) de 609 lineas...\n",
      "Inicio del procesamiento del archivo 8 (Trajectory_Files/ACOTSP/SR\\trajectories_8860.txt) de 697 lineas...\n",
      "Inicio del procesamiento del archivo 9 (Trajectory_Files/ACOTSP/SR\\trajectories_9411.txt) de 603 lineas...\n",
      "Inicio del procesamiento del archivo 10 (Trajectory_Files/ACOTSP/SR\\trajectories_9685.txt) de 584 lineas...\n",
      "Fin del procesamiento de los archivos. Tiempo total: 0.014644622802734375 segundos.\n",
      "Inicio del proceso de generación de locaciones...\n",
      "Fin del proceso de generación de locaciones. Tiempo total: 0.13953614234924316 segundos.\n",
      "Inicio del proceso de cálculo de calidad de locaciones...\n",
      "Fin del proceso de cálculo de calidad de locaciones. Tiempo total: 0.008002042770385742 segundos.\n",
      "Inicio del proceso de generación del archivo en formato STN...\n",
      "Fin del proceso de generación del archivo en formato STN. Tiempo total: 0.011998891830444336 segundos.\n",
      "Fin del proceso de conversión de las trayectorias a formato STN.\n"
     ]
    }
   ],
   "source": [
    "folder_path = \"Trajectory_Files/ACOTSP/SR\"\n",
    "destination_path = \"Trajectory_Files/ACOTSP/SR_L2_STN\"\n",
    "output_file = \"ACOTSP_SR_L2_STN.txt\"\n",
    "output_file_path = f'{destination_path}/{output_file}'\n",
    "\n",
    "stn_lines = trajectories_to_stn_format(\n",
    "    folder_path=folder_path,\n",
    "    file_extension=\"txt\",\n",
    "    output_file_path=output_file_path,\n",
    "    parameters_format=acotsp_parameters_format,\n",
    "    locations_format=acotsp_locations_format_2,\n",
    "    quality_type=\"min\",\n",
    "    significant_digits=2,\n",
    "    show_elites=True,\n",
    "    show_iterations=True,\n",
    "    show_configurations=False,\n",
    ")"
   ]
  },
  {
   "cell_type": "markdown",
   "metadata": {},
   "source": [
    "## Ejecución de MMASQAP"
   ]
  },
  {
   "cell_type": "markdown",
   "metadata": {},
   "source": [
    "Formato de parámetros en archivo irace\n",
    "\n",
    "| Name         | Switch            | Type | Values                 |\n",
    "|--------------|-------------------|------|------------------------|\n",
    "| localsearch  | \"--localsearch \"  | c    | (0, 1, 2, 3)           |\n",
    "| rho          | \"--rho \"          | r    | (0.01, 1.00)           |\n",
    "| ants         | \"--ants \"         | i    | (1, 100)               |"
   ]
  },
  {
   "cell_type": "markdown",
   "metadata": {},
   "source": [
    "### Formato de parámetros"
   ]
  },
  {
   "cell_type": "code",
   "execution_count": 12,
   "metadata": {},
   "outputs": [],
   "source": [
    "mmasqap_parameters_format = [\n",
    "    Parameter_Format(name=\"localsearch\", type=\"s\", value_type=\"c\", possible_values=[\"0\", \"1\", \"2\", \"3\", \"NA\"]),\n",
    "    Parameter_Format(name=\"rho\", type=\"f\", value_type=\"r\", possible_values=[0.01, 1.00]),\n",
    "    Parameter_Format(name=\"ants\", type=\"i\", value_type=\"i\", possible_values=[1, 100]),\n",
    "]"
   ]
  },
  {
   "cell_type": "markdown",
   "metadata": {},
   "source": [
    "### Formato locación 0"
   ]
  },
  {
   "cell_type": "code",
   "execution_count": 13,
   "metadata": {},
   "outputs": [],
   "source": [
    "mmasqap_locations_format_0 = [\n",
    "    Location_Format(name=\"localsearch\", location_caster={\"0\": \"0\", \"1\": \"1\", \"2\": \"2\", \"3\": \"3\", \"NA\": \"x\"}),\n",
    "    Location_Format(name=\"rho\", location_caster=[0.1, 2]),\n",
    "    Location_Format(name=\"ants\", location_caster=[10, 0]),\n",
    "]"
   ]
  },
  {
   "cell_type": "markdown",
   "metadata": {},
   "source": [
    "### Formato locación 1"
   ]
  },
  {
   "cell_type": "code",
   "execution_count": 14,
   "metadata": {},
   "outputs": [],
   "source": [
    "mmasqap_locations_format_1 = [\n",
    "    Location_Format(name=\"localsearch\", location_caster={\"0\": \"0\", \"1\": \"1\", \"2\": \"2\", \"3\": \"3\", \"NA\": \"x\"}),\n",
    "    Location_Format(name=\"rho\", location_caster=[0.05, 2]),\n",
    "    Location_Format(name=\"ants\", location_caster=[5, 0]),\n",
    "]"
   ]
  },
  {
   "cell_type": "markdown",
   "metadata": {},
   "source": [
    "### Formato locación 2"
   ]
  },
  {
   "cell_type": "code",
   "execution_count": 15,
   "metadata": {},
   "outputs": [],
   "source": [
    "mmasqap_locations_format_2 = [\n",
    "    Location_Format(name=\"localsearch\", location_caster={\"0\": \"0\", \"1\": \"1\", \"2\": \"2\", \"3\": \"3\", \"NA\": \"x\"}),\n",
    "    Location_Format(name=\"rho\", location_caster=[0.02, 2]),\n",
    "    Location_Format(name=\"ants\", location_caster=[2, 0]),\n",
    "]"
   ]
  },
  {
   "cell_type": "markdown",
   "metadata": {},
   "source": [
    "### Forma Normal - Locación 0"
   ]
  },
  {
   "cell_type": "code",
   "execution_count": 16,
   "metadata": {},
   "outputs": [
    {
     "name": "stdout",
     "output_type": "stream",
     "text": [
      "Inicio del procesamiento del archivo 1 (Trajectory_Files/MMASQAP/N\\trajectories_128.txt) de 416 lineas...\n",
      "Inicio del procesamiento del archivo 2 (Trajectory_Files/MMASQAP/N\\trajectories_1569.txt) de 392 lineas...\n",
      "Inicio del procesamiento del archivo 3 (Trajectory_Files/MMASQAP/N\\trajectories_3764.txt) de 379 lineas...\n",
      "Inicio del procesamiento del archivo 4 (Trajectory_Files/MMASQAP/N\\trajectories_5144.txt) de 405 lineas...\n",
      "Inicio del procesamiento del archivo 5 (Trajectory_Files/MMASQAP/N\\trajectories_7018.txt) de 398 lineas...\n",
      "Inicio del procesamiento del archivo 6 (Trajectory_Files/MMASQAP/N\\trajectories_7175.txt) de 406 lineas...\n",
      "Inicio del procesamiento del archivo 7 (Trajectory_Files/MMASQAP/N\\trajectories_7940.txt) de 434 lineas...\n",
      "Inicio del procesamiento del archivo 8 (Trajectory_Files/MMASQAP/N\\trajectories_8860.txt) de 451 lineas...\n",
      "Inicio del procesamiento del archivo 9 (Trajectory_Files/MMASQAP/N\\trajectories_9411.txt) de 463 lineas...\n",
      "Inicio del procesamiento del archivo 10 (Trajectory_Files/MMASQAP/N\\trajectories_9685.txt) de 387 lineas...\n",
      "Fin del procesamiento de los archivos. Tiempo total: 0.0025167465209960938 segundos.\n",
      "Inicio del proceso de generación de locaciones...\n",
      "Fin del proceso de generación de locaciones. Tiempo total: 0.02998971939086914 segundos.\n",
      "Inicio del proceso de cálculo de calidad de locaciones...\n",
      "Fin del proceso de cálculo de calidad de locaciones. Tiempo total: 0.0020227432250976562 segundos.\n",
      "Inicio del proceso de generación del archivo en formato STN...\n",
      "Fin del proceso de generación del archivo en formato STN. Tiempo total: 0.007975101470947266 segundos.\n",
      "Fin del proceso de conversión de las trayectorias a formato STN.\n"
     ]
    }
   ],
   "source": [
    "folder_path = \"Trajectory_Files/MMASQAP/N\"\n",
    "destination_path = \"Trajectory_Files/MMASQAP/N_L0_STN\"\n",
    "output_file = \"MMASQAP_N_L0_STN.txt\"\n",
    "output_file_path = f'{destination_path}/{output_file}'\n",
    "\n",
    "stn_lines = trajectories_to_stn_format(\n",
    "    folder_path=folder_path,\n",
    "    file_extension=\"txt\",\n",
    "    output_file_path=output_file_path,\n",
    "    parameters_format=mmasqap_parameters_format,\n",
    "    locations_format=mmasqap_locations_format_0,\n",
    "    quality_type=\"min\",\n",
    "    significant_digits=2,\n",
    "    show_elites=True,\n",
    "    show_iterations=True,\n",
    "    show_configurations=False,\n",
    ")"
   ]
  },
  {
   "cell_type": "markdown",
   "metadata": {},
   "source": [
    "### Forma Normal - Locación 1"
   ]
  },
  {
   "cell_type": "code",
   "execution_count": 17,
   "metadata": {},
   "outputs": [
    {
     "name": "stdout",
     "output_type": "stream",
     "text": [
      "Inicio del procesamiento del archivo 1 (Trajectory_Files/MMASQAP/N\\trajectories_128.txt) de 416 lineas...\n",
      "Inicio del procesamiento del archivo 2 (Trajectory_Files/MMASQAP/N\\trajectories_1569.txt) de 392 lineas...\n",
      "Inicio del procesamiento del archivo 3 (Trajectory_Files/MMASQAP/N\\trajectories_3764.txt) de 379 lineas...\n",
      "Inicio del procesamiento del archivo 4 (Trajectory_Files/MMASQAP/N\\trajectories_5144.txt) de 405 lineas...\n",
      "Inicio del procesamiento del archivo 5 (Trajectory_Files/MMASQAP/N\\trajectories_7018.txt) de 398 lineas...\n",
      "Inicio del procesamiento del archivo 6 (Trajectory_Files/MMASQAP/N\\trajectories_7175.txt) de 406 lineas...\n",
      "Inicio del procesamiento del archivo 7 (Trajectory_Files/MMASQAP/N\\trajectories_7940.txt) de 434 lineas...\n",
      "Inicio del procesamiento del archivo 8 (Trajectory_Files/MMASQAP/N\\trajectories_8860.txt) de 451 lineas...\n",
      "Inicio del procesamiento del archivo 9 (Trajectory_Files/MMASQAP/N\\trajectories_9411.txt) de 463 lineas...\n",
      "Inicio del procesamiento del archivo 10 (Trajectory_Files/MMASQAP/N\\trajectories_9685.txt) de 387 lineas...\n",
      "Fin del procesamiento de los archivos. Tiempo total: 0.0029993057250976562 segundos.\n",
      "Inicio del proceso de generación de locaciones...\n",
      "Fin del proceso de generación de locaciones. Tiempo total: 0.029000043869018555 segundos.\n",
      "Inicio del proceso de cálculo de calidad de locaciones...\n",
      "Fin del proceso de cálculo de calidad de locaciones. Tiempo total: 0.0020008087158203125 segundos.\n",
      "Inicio del proceso de generación del archivo en formato STN...\n",
      "Fin del proceso de generación del archivo en formato STN. Tiempo total: 0.007998943328857422 segundos.\n",
      "Fin del proceso de conversión de las trayectorias a formato STN.\n"
     ]
    }
   ],
   "source": [
    "folder_path = \"Trajectory_Files/MMASQAP/N\"\n",
    "destination_path = \"Trajectory_Files/MMASQAP/N_L1_STN\"\n",
    "output_file = \"MMASQAP_N_L1_STN.txt\"\n",
    "output_file_path = f'{destination_path}/{output_file}'\n",
    "\n",
    "stn_lines = trajectories_to_stn_format(\n",
    "    folder_path=folder_path,\n",
    "    file_extension=\"txt\",\n",
    "    output_file_path=output_file_path,\n",
    "    parameters_format=mmasqap_parameters_format,\n",
    "    locations_format=mmasqap_locations_format_1,\n",
    "    quality_type=\"min\",\n",
    "    significant_digits=2,\n",
    "    show_elites=True,\n",
    "    show_iterations=True,\n",
    "    show_configurations=False,\n",
    ")"
   ]
  },
  {
   "cell_type": "markdown",
   "metadata": {},
   "source": [
    "### Forma Normal - Locación 2"
   ]
  },
  {
   "cell_type": "code",
   "execution_count": 18,
   "metadata": {},
   "outputs": [
    {
     "name": "stdout",
     "output_type": "stream",
     "text": [
      "Inicio del procesamiento del archivo 1 (Trajectory_Files/MMASQAP/N\\trajectories_128.txt) de 416 lineas...\n",
      "Inicio del procesamiento del archivo 2 (Trajectory_Files/MMASQAP/N\\trajectories_1569.txt) de 392 lineas...\n",
      "Inicio del procesamiento del archivo 3 (Trajectory_Files/MMASQAP/N\\trajectories_3764.txt) de 379 lineas...\n",
      "Inicio del procesamiento del archivo 4 (Trajectory_Files/MMASQAP/N\\trajectories_5144.txt) de 405 lineas...\n",
      "Inicio del procesamiento del archivo 5 (Trajectory_Files/MMASQAP/N\\trajectories_7018.txt) de 398 lineas...\n",
      "Inicio del procesamiento del archivo 6 (Trajectory_Files/MMASQAP/N\\trajectories_7175.txt) de 406 lineas...\n",
      "Inicio del procesamiento del archivo 7 (Trajectory_Files/MMASQAP/N\\trajectories_7940.txt) de 434 lineas...\n",
      "Inicio del procesamiento del archivo 8 (Trajectory_Files/MMASQAP/N\\trajectories_8860.txt) de 451 lineas...\n",
      "Inicio del procesamiento del archivo 9 (Trajectory_Files/MMASQAP/N\\trajectories_9411.txt) de 463 lineas...\n",
      "Inicio del procesamiento del archivo 10 (Trajectory_Files/MMASQAP/N\\trajectories_9685.txt) de 387 lineas...\n",
      "Fin del procesamiento de los archivos. Tiempo total: 0.002998828887939453 segundos.\n",
      "Inicio del proceso de generación de locaciones...\n",
      "Fin del proceso de generación de locaciones. Tiempo total: 0.030998706817626953 segundos.\n",
      "Inicio del proceso de cálculo de calidad de locaciones...\n",
      "Fin del proceso de cálculo de calidad de locaciones. Tiempo total: 0.0030007362365722656 segundos.\n",
      "Inicio del proceso de generación del archivo en formato STN...\n",
      "Fin del proceso de generación del archivo en formato STN. Tiempo total: 0.00800013542175293 segundos.\n",
      "Fin del proceso de conversión de las trayectorias a formato STN.\n"
     ]
    }
   ],
   "source": [
    "folder_path = \"Trajectory_Files/MMASQAP/N\"\n",
    "destination_path = \"Trajectory_Files/MMASQAP/N_L2_STN\"\n",
    "output_file = \"MMASQAP_N_L2_STN.txt\"\n",
    "output_file_path = f'{destination_path}/{output_file}'\n",
    "\n",
    "stn_lines = trajectories_to_stn_format(\n",
    "    folder_path=folder_path,\n",
    "    file_extension=\"txt\",\n",
    "    output_file_path=output_file_path,\n",
    "    parameters_format=mmasqap_parameters_format,\n",
    "    locations_format=mmasqap_locations_format_2,\n",
    "    quality_type=\"min\",\n",
    "    significant_digits=2,\n",
    "    show_elites=True,\n",
    "    show_iterations=True,\n",
    "    show_configurations=False,\n",
    ")"
   ]
  },
  {
   "cell_type": "markdown",
   "metadata": {},
   "source": [
    "### Forma con SoftRestart - Locación 0"
   ]
  },
  {
   "cell_type": "code",
   "execution_count": 19,
   "metadata": {},
   "outputs": [
    {
     "name": "stdout",
     "output_type": "stream",
     "text": [
      "Inicio del procesamiento del archivo 1 (Trajectory_Files/MMASQAP/SR\\trajectories_128.txt) de 458 lineas...\n",
      "Inicio del procesamiento del archivo 2 (Trajectory_Files/MMASQAP/SR\\trajectories_1569.txt) de 434 lineas...\n",
      "Inicio del procesamiento del archivo 3 (Trajectory_Files/MMASQAP/SR\\trajectories_3764.txt) de 399 lineas...\n",
      "Inicio del procesamiento del archivo 4 (Trajectory_Files/MMASQAP/SR\\trajectories_5144.txt) de 452 lineas...\n",
      "Inicio del procesamiento del archivo 5 (Trajectory_Files/MMASQAP/SR\\trajectories_7018.txt) de 415 lineas...\n",
      "Inicio del procesamiento del archivo 6 (Trajectory_Files/MMASQAP/SR\\trajectories_7175.txt) de 437 lineas...\n",
      "Inicio del procesamiento del archivo 7 (Trajectory_Files/MMASQAP/SR\\trajectories_7940.txt) de 405 lineas...\n",
      "Inicio del procesamiento del archivo 8 (Trajectory_Files/MMASQAP/SR\\trajectories_8860.txt) de 487 lineas...\n",
      "Inicio del procesamiento del archivo 9 (Trajectory_Files/MMASQAP/SR\\trajectories_9411.txt) de 406 lineas...\n",
      "Inicio del procesamiento del archivo 10 (Trajectory_Files/MMASQAP/SR\\trajectories_9685.txt) de 421 lineas...\n",
      "Fin del procesamiento de los archivos. Tiempo total: 0.0030040740966796875 segundos.\n",
      "Inicio del proceso de generación de locaciones...\n",
      "Fin del proceso de generación de locaciones. Tiempo total: 0.030996084213256836 segundos.\n",
      "Inicio del proceso de cálculo de calidad de locaciones...\n",
      "Fin del proceso de cálculo de calidad de locaciones. Tiempo total: 0.0029997825622558594 segundos.\n",
      "Inicio del proceso de generación del archivo en formato STN...\n",
      "Fin del proceso de generación del archivo en formato STN. Tiempo total: 0.008002042770385742 segundos.\n",
      "Fin del proceso de conversión de las trayectorias a formato STN.\n"
     ]
    }
   ],
   "source": [
    "folder_path = \"Trajectory_Files/MMASQAP/SR\"\n",
    "destination_path = \"Trajectory_Files/MMASQAP/SR_L0_STN\"\n",
    "output_file = \"MMASQAP_SR_L0_STN.txt\"\n",
    "output_file_path = f'{destination_path}/{output_file}'\n",
    "\n",
    "stn_lines = trajectories_to_stn_format(\n",
    "    folder_path=folder_path,\n",
    "    file_extension=\"txt\",\n",
    "    output_file_path=output_file_path,\n",
    "    parameters_format=mmasqap_parameters_format,\n",
    "    locations_format=mmasqap_locations_format_0,\n",
    "    quality_type=\"min\",\n",
    "    significant_digits=2,\n",
    "    show_elites=True,\n",
    "    show_iterations=True,\n",
    "    show_configurations=False,\n",
    ")"
   ]
  },
  {
   "cell_type": "markdown",
   "metadata": {},
   "source": [
    "### Forma con SoftRestart - Locación 1"
   ]
  },
  {
   "cell_type": "code",
   "execution_count": 20,
   "metadata": {},
   "outputs": [
    {
     "name": "stdout",
     "output_type": "stream",
     "text": [
      "Inicio del procesamiento del archivo 1 (Trajectory_Files/MMASQAP/SR\\trajectories_128.txt) de 458 lineas...\n",
      "Inicio del procesamiento del archivo 2 (Trajectory_Files/MMASQAP/SR\\trajectories_1569.txt) de 434 lineas...\n",
      "Inicio del procesamiento del archivo 3 (Trajectory_Files/MMASQAP/SR\\trajectories_3764.txt) de 399 lineas...\n",
      "Inicio del procesamiento del archivo 4 (Trajectory_Files/MMASQAP/SR\\trajectories_5144.txt) de 452 lineas...\n",
      "Inicio del procesamiento del archivo 5 (Trajectory_Files/MMASQAP/SR\\trajectories_7018.txt) de 415 lineas...\n",
      "Inicio del procesamiento del archivo 6 (Trajectory_Files/MMASQAP/SR\\trajectories_7175.txt) de 437 lineas...\n",
      "Inicio del procesamiento del archivo 7 (Trajectory_Files/MMASQAP/SR\\trajectories_7940.txt) de 405 lineas...\n",
      "Inicio del procesamiento del archivo 8 (Trajectory_Files/MMASQAP/SR\\trajectories_8860.txt) de 487 lineas...\n",
      "Inicio del procesamiento del archivo 9 (Trajectory_Files/MMASQAP/SR\\trajectories_9411.txt) de 406 lineas...\n",
      "Inicio del procesamiento del archivo 10 (Trajectory_Files/MMASQAP/SR\\trajectories_9685.txt) de 421 lineas...\n",
      "Fin del procesamiento de los archivos. Tiempo total: 0.003000020980834961 segundos.\n",
      "Inicio del proceso de generación de locaciones...\n",
      "Fin del proceso de generación de locaciones. Tiempo total: 0.03151082992553711 segundos.\n",
      "Inicio del proceso de cálculo de calidad de locaciones...\n",
      "Fin del proceso de cálculo de calidad de locaciones. Tiempo total: 0.002997159957885742 segundos.\n",
      "Inicio del proceso de generación del archivo en formato STN...\n",
      "Fin del proceso de generación del archivo en formato STN. Tiempo total: 0.006999492645263672 segundos.\n",
      "Fin del proceso de conversión de las trayectorias a formato STN.\n"
     ]
    }
   ],
   "source": [
    "folder_path = \"Trajectory_Files/MMASQAP/SR\"\n",
    "destination_path = \"Trajectory_Files/MMASQAP/SR_L1_STN\"\n",
    "output_file = \"MMASQAP_SR_L1_STN.txt\"\n",
    "output_file_path = f'{destination_path}/{output_file}'\n",
    "\n",
    "stn_lines = trajectories_to_stn_format(\n",
    "    folder_path=folder_path,\n",
    "    file_extension=\"txt\",\n",
    "    output_file_path=output_file_path,\n",
    "    parameters_format=mmasqap_parameters_format,\n",
    "    locations_format=mmasqap_locations_format_1,\n",
    "    quality_type=\"min\",\n",
    "    significant_digits=2,\n",
    "    show_elites=True,\n",
    "    show_iterations=True,\n",
    "    show_configurations=False,\n",
    ")"
   ]
  },
  {
   "cell_type": "markdown",
   "metadata": {},
   "source": [
    "### Forma con SoftRestart - Locación 2"
   ]
  },
  {
   "cell_type": "code",
   "execution_count": 21,
   "metadata": {},
   "outputs": [
    {
     "name": "stdout",
     "output_type": "stream",
     "text": [
      "Inicio del procesamiento del archivo 1 (Trajectory_Files/MMASQAP/SR\\trajectories_128.txt) de 458 lineas...\n",
      "Inicio del procesamiento del archivo 2 (Trajectory_Files/MMASQAP/SR\\trajectories_1569.txt) de 434 lineas...\n",
      "Inicio del procesamiento del archivo 3 (Trajectory_Files/MMASQAP/SR\\trajectories_3764.txt) de 399 lineas...\n",
      "Inicio del procesamiento del archivo 4 (Trajectory_Files/MMASQAP/SR\\trajectories_5144.txt) de 452 lineas...\n",
      "Inicio del procesamiento del archivo 5 (Trajectory_Files/MMASQAP/SR\\trajectories_7018.txt) de 415 lineas...\n",
      "Inicio del procesamiento del archivo 6 (Trajectory_Files/MMASQAP/SR\\trajectories_7175.txt) de 437 lineas...\n",
      "Inicio del procesamiento del archivo 7 (Trajectory_Files/MMASQAP/SR\\trajectories_7940.txt) de 405 lineas...\n",
      "Inicio del procesamiento del archivo 8 (Trajectory_Files/MMASQAP/SR\\trajectories_8860.txt) de 487 lineas...\n",
      "Inicio del procesamiento del archivo 9 (Trajectory_Files/MMASQAP/SR\\trajectories_9411.txt) de 406 lineas...\n",
      "Inicio del procesamiento del archivo 10 (Trajectory_Files/MMASQAP/SR\\trajectories_9685.txt) de 421 lineas...\n",
      "Fin del procesamiento de los archivos. Tiempo total: 0.0027763843536376953 segundos.\n",
      "Inicio del proceso de generación de locaciones...\n",
      "Fin del proceso de generación de locaciones. Tiempo total: 0.03099989891052246 segundos.\n",
      "Inicio del proceso de cálculo de calidad de locaciones...\n",
      "Fin del proceso de cálculo de calidad de locaciones. Tiempo total: 0.004001140594482422 segundos.\n",
      "Inicio del proceso de generación del archivo en formato STN...\n",
      "Fin del proceso de generación del archivo en formato STN. Tiempo total: 0.007998943328857422 segundos.\n",
      "Fin del proceso de conversión de las trayectorias a formato STN.\n"
     ]
    }
   ],
   "source": [
    "folder_path = \"Trajectory_Files/MMASQAP/SR\"\n",
    "destination_path = \"Trajectory_Files/MMASQAP/SR_L2_STN\"\n",
    "output_file = \"MMASQAP_SR_L2_STN.txt\"\n",
    "output_file_path = f'{destination_path}/{output_file}'\n",
    "\n",
    "stn_lines = trajectories_to_stn_format(\n",
    "    folder_path=folder_path,\n",
    "    file_extension=\"txt\",\n",
    "    output_file_path=output_file_path,\n",
    "    parameters_format=mmasqap_parameters_format,\n",
    "    locations_format=mmasqap_locations_format_2,\n",
    "    quality_type=\"min\",\n",
    "    significant_digits=2,\n",
    "    show_elites=True,\n",
    "    show_iterations=True,\n",
    "    show_configurations=False,\n",
    ")"
   ]
  }
 ],
 "metadata": {
  "kernelspec": {
   "display_name": "Python 3",
   "language": "python",
   "name": "python3"
  },
  "language_info": {
   "codemirror_mode": {
    "name": "ipython",
    "version": 3
   },
   "file_extension": ".py",
   "mimetype": "text/x-python",
   "name": "python",
   "nbconvert_exporter": "python",
   "pygments_lexer": "ipython3",
   "version": "3.11.4"
  }
 },
 "nbformat": 4,
 "nbformat_minor": 2
}
